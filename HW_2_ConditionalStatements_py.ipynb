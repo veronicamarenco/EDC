{
  "nbformat": 4,
  "nbformat_minor": 0,
  "metadata": {
    "colab": {
      "provenance": [],
      "authorship_tag": "ABX9TyNLncfTjPA/Z6HlvV3B+AhT",
      "include_colab_link": true
    },
    "kernelspec": {
      "name": "python3",
      "display_name": "Python 3"
    },
    "language_info": {
      "name": "python"
    }
  },
  "cells": [
    {
      "cell_type": "markdown",
      "metadata": {
        "id": "view-in-github",
        "colab_type": "text"
      },
      "source": [
        "<a href=\"https://colab.research.google.com/github/veronicamarenco/EDC/blob/main/HW_2_ConditionalStatements_py.ipynb\" target=\"_parent\"><img src=\"https://colab.research.google.com/assets/colab-badge.svg\" alt=\"Open In Colab\"/></a>"
      ]
    },
    {
      "cell_type": "markdown",
      "source": [
        "Conditional Statements"
      ],
      "metadata": {
        "id": "gXLszWheW2Yb"
      }
    },
    {
      "cell_type": "markdown",
      "source": [
        "1. Write a Python program to find those numbers which are divisible by 3 and are between 1000 and 2500 (both included)."
      ],
      "metadata": {
        "id": "YEsUgRnYWSkZ"
      }
    },
    {
      "cell_type": "code",
      "source": [
        "start = 1000\n",
        "end = 2500\n",
        "\n",
        "# List to store numbers divisible by 3\n",
        "divisible_by_3 = []\n",
        "\n",
        "# Loop through the range\n",
        "for number in range(start, end + 1):\n",
        "    if number % 3 == 0:\n",
        "        divisible_by_3.append(number)\n",
        "\n",
        "# Print the result\n",
        "print(\"Numbers divisible by 3 from 1000 to 2500 are:\")\n",
        "print(divisible_by_3)\n"
      ],
      "metadata": {
        "colab": {
          "base_uri": "https://localhost:8080/"
        },
        "id": "ZdRzLYYvWVV4",
        "outputId": "0c1d0f37-9e08-4c67-9ab1-6ad707a3aa02"
      },
      "execution_count": null,
      "outputs": [
        {
          "output_type": "stream",
          "name": "stdout",
          "text": [
            "Numbers divisible by 3 from 1000 to 2500 are:\n",
            "[1002, 1005, 1008, 1011, 1014, 1017, 1020, 1023, 1026, 1029, 1032, 1035, 1038, 1041, 1044, 1047, 1050, 1053, 1056, 1059, 1062, 1065, 1068, 1071, 1074, 1077, 1080, 1083, 1086, 1089, 1092, 1095, 1098, 1101, 1104, 1107, 1110, 1113, 1116, 1119, 1122, 1125, 1128, 1131, 1134, 1137, 1140, 1143, 1146, 1149, 1152, 1155, 1158, 1161, 1164, 1167, 1170, 1173, 1176, 1179, 1182, 1185, 1188, 1191, 1194, 1197, 1200, 1203, 1206, 1209, 1212, 1215, 1218, 1221, 1224, 1227, 1230, 1233, 1236, 1239, 1242, 1245, 1248, 1251, 1254, 1257, 1260, 1263, 1266, 1269, 1272, 1275, 1278, 1281, 1284, 1287, 1290, 1293, 1296, 1299, 1302, 1305, 1308, 1311, 1314, 1317, 1320, 1323, 1326, 1329, 1332, 1335, 1338, 1341, 1344, 1347, 1350, 1353, 1356, 1359, 1362, 1365, 1368, 1371, 1374, 1377, 1380, 1383, 1386, 1389, 1392, 1395, 1398, 1401, 1404, 1407, 1410, 1413, 1416, 1419, 1422, 1425, 1428, 1431, 1434, 1437, 1440, 1443, 1446, 1449, 1452, 1455, 1458, 1461, 1464, 1467, 1470, 1473, 1476, 1479, 1482, 1485, 1488, 1491, 1494, 1497, 1500, 1503, 1506, 1509, 1512, 1515, 1518, 1521, 1524, 1527, 1530, 1533, 1536, 1539, 1542, 1545, 1548, 1551, 1554, 1557, 1560, 1563, 1566, 1569, 1572, 1575, 1578, 1581, 1584, 1587, 1590, 1593, 1596, 1599, 1602, 1605, 1608, 1611, 1614, 1617, 1620, 1623, 1626, 1629, 1632, 1635, 1638, 1641, 1644, 1647, 1650, 1653, 1656, 1659, 1662, 1665, 1668, 1671, 1674, 1677, 1680, 1683, 1686, 1689, 1692, 1695, 1698, 1701, 1704, 1707, 1710, 1713, 1716, 1719, 1722, 1725, 1728, 1731, 1734, 1737, 1740, 1743, 1746, 1749, 1752, 1755, 1758, 1761, 1764, 1767, 1770, 1773, 1776, 1779, 1782, 1785, 1788, 1791, 1794, 1797, 1800, 1803, 1806, 1809, 1812, 1815, 1818, 1821, 1824, 1827, 1830, 1833, 1836, 1839, 1842, 1845, 1848, 1851, 1854, 1857, 1860, 1863, 1866, 1869, 1872, 1875, 1878, 1881, 1884, 1887, 1890, 1893, 1896, 1899, 1902, 1905, 1908, 1911, 1914, 1917, 1920, 1923, 1926, 1929, 1932, 1935, 1938, 1941, 1944, 1947, 1950, 1953, 1956, 1959, 1962, 1965, 1968, 1971, 1974, 1977, 1980, 1983, 1986, 1989, 1992, 1995, 1998, 2001, 2004, 2007, 2010, 2013, 2016, 2019, 2022, 2025, 2028, 2031, 2034, 2037, 2040, 2043, 2046, 2049, 2052, 2055, 2058, 2061, 2064, 2067, 2070, 2073, 2076, 2079, 2082, 2085, 2088, 2091, 2094, 2097, 2100, 2103, 2106, 2109, 2112, 2115, 2118, 2121, 2124, 2127, 2130, 2133, 2136, 2139, 2142, 2145, 2148, 2151, 2154, 2157, 2160, 2163, 2166, 2169, 2172, 2175, 2178, 2181, 2184, 2187, 2190, 2193, 2196, 2199, 2202, 2205, 2208, 2211, 2214, 2217, 2220, 2223, 2226, 2229, 2232, 2235, 2238, 2241, 2244, 2247, 2250, 2253, 2256, 2259, 2262, 2265, 2268, 2271, 2274, 2277, 2280, 2283, 2286, 2289, 2292, 2295, 2298, 2301, 2304, 2307, 2310, 2313, 2316, 2319, 2322, 2325, 2328, 2331, 2334, 2337, 2340, 2343, 2346, 2349, 2352, 2355, 2358, 2361, 2364, 2367, 2370, 2373, 2376, 2379, 2382, 2385, 2388, 2391, 2394, 2397, 2400, 2403, 2406, 2409, 2412, 2415, 2418, 2421, 2424, 2427, 2430, 2433, 2436, 2439, 2442, 2445, 2448, 2451, 2454, 2457, 2460, 2463, 2466, 2469, 2472, 2475, 2478, 2481, 2484, 2487, 2490, 2493, 2496, 2499]\n"
          ]
        }
      ]
    },
    {
      "cell_type": "markdown",
      "source": [
        "2. Write a Python program to convert month name to a number of days in this months."
      ],
      "metadata": {
        "id": "Ua934KbEWwxU"
      }
    },
    {
      "cell_type": "code",
      "source": [
        "# Program to convert month name to number of days\n",
        "\n",
        "# Dictionary mapping month names to number of days\n",
        "month_days = {\n",
        "    \"january\": 31,\n",
        "    \"february\": 28,  # Assuming non-leap year\n",
        "    \"march\": 31,\n",
        "    \"april\": 30,\n",
        "    \"may\": 31,\n",
        "    \"june\": 30,\n",
        "    \"july\": 31,\n",
        "    \"august\": 31,\n",
        "    \"september\": 30,\n",
        "    \"october\": 31,\n",
        "    \"november\": 30,\n",
        "    \"december\": 31\n",
        "}\n",
        "\n",
        "# Get user input\n",
        "month = input(\"Enter the name of the month: \").strip().lower()\n",
        "\n",
        "# Find and print number of days\n",
        "if month in month_days:\n",
        "    print(f\"{month.capitalize()} has {month_days[month]} days.\")\n",
        "else:\n",
        "    print(\"Invalid month name. Please try again.\")\n"
      ],
      "metadata": {
        "colab": {
          "base_uri": "https://localhost:8080/"
        },
        "id": "9hqbSMr2WwIr",
        "outputId": "be0a55ec-65ba-4469-d302-92c09ce27dc6"
      },
      "execution_count": null,
      "outputs": [
        {
          "output_type": "stream",
          "name": "stdout",
          "text": [
            "Enter the name of the month: July\n",
            "July has 31 days.\n"
          ]
        }
      ]
    },
    {
      "cell_type": "markdown",
      "source": [
        "3. Write a Python program that accepts a word from the user and reverse it."
      ],
      "metadata": {
        "id": "5BsnfOIkXHIp"
      }
    },
    {
      "cell_type": "code",
      "source": [
        "word = input(\"Enter a word: \")\n",
        "\n",
        "reversed_word = word[::-1]\n",
        "\n",
        "# Print the result\n",
        "print(\"Reversed word:\", reversed_word)"
      ],
      "metadata": {
        "colab": {
          "base_uri": "https://localhost:8080/"
        },
        "id": "mM1EnqHdXZDB",
        "outputId": "01f8b3eb-095b-4a34-8afe-0e9f8d3401eb"
      },
      "execution_count": null,
      "outputs": [
        {
          "output_type": "stream",
          "name": "stdout",
          "text": [
            "Enter a word: seven\n",
            "Reversed word: neves\n"
          ]
        }
      ]
    },
    {
      "cell_type": "markdown",
      "source": [
        "4. Write a Python program which iterates the integers from 1 to 50. For multiples of three print \"Wonderful\" instead of the number and for the multiples of five print \"Nice\". For numbers which are multiples of both three and five print \"Perfect\"."
      ],
      "metadata": {
        "id": "JbzoO9X_Xjr2"
      }
    },
    {
      "cell_type": "code",
      "source": [
        "for i in range(1, 51):\n",
        "    if i % 3 == 0 and i % 5 == 0:\n",
        "        print(\"Perfect\")\n",
        "    elif i % 3 == 0:\n",
        "        print(\"Wonderful\")\n",
        "    elif i % 5 == 0:\n",
        "        print(\"Nice\")\n",
        "    else:\n",
        "        print(i)\n"
      ],
      "metadata": {
        "colab": {
          "base_uri": "https://localhost:8080/"
        },
        "id": "68UVIuMkXi4c",
        "outputId": "5d54ed39-412c-42c1-eac8-6ae50c90d5ab"
      },
      "execution_count": null,
      "outputs": [
        {
          "output_type": "stream",
          "name": "stdout",
          "text": [
            "1\n",
            "2\n",
            "Wonderful\n",
            "4\n",
            "Nice\n",
            "Wonderful\n",
            "7\n",
            "8\n",
            "Wonderful\n",
            "Nice\n",
            "11\n",
            "Wonderful\n",
            "13\n",
            "14\n",
            "Perfect\n",
            "16\n",
            "17\n",
            "Wonderful\n",
            "19\n",
            "Nice\n",
            "Wonderful\n",
            "22\n",
            "23\n",
            "Wonderful\n",
            "Nice\n",
            "26\n",
            "Wonderful\n",
            "28\n",
            "29\n",
            "Perfect\n",
            "31\n",
            "32\n",
            "Wonderful\n",
            "34\n",
            "Nice\n",
            "Wonderful\n",
            "37\n",
            "38\n",
            "Wonderful\n",
            "Nice\n",
            "41\n",
            "Wonderful\n",
            "43\n",
            "44\n",
            "Perfect\n",
            "46\n",
            "47\n",
            "Wonderful\n",
            "49\n",
            "Nice\n"
          ]
        }
      ]
    },
    {
      "cell_type": "markdown",
      "source": [
        "##Challenge 2: Sets"
      ],
      "metadata": {
        "id": "FOYtdAarYiUk"
      }
    },
    {
      "cell_type": "code",
      "source": [
        "import random\n",
        "\n",
        "sample_list_1 = random.sample(range(0, 101), 80)\n",
        "\n",
        "print(sample_list_1)"
      ],
      "metadata": {
        "colab": {
          "base_uri": "https://localhost:8080/"
        },
        "id": "BJgF0ihTYXg5",
        "outputId": "54510dd1-0495-4251-fe2c-48757ceda5d5"
      },
      "execution_count": null,
      "outputs": [
        {
          "output_type": "stream",
          "name": "stdout",
          "text": [
            "[55, 58, 3, 88, 0, 75, 54, 79, 72, 30, 22, 52, 37, 76, 43, 63, 61, 46, 45, 65, 86, 47, 56, 25, 32, 91, 10, 40, 21, 18, 68, 17, 11, 42, 98, 33, 83, 71, 81, 24, 96, 90, 69, 39, 26, 6, 93, 82, 19, 38, 84, 60, 50, 53, 66, 8, 73, 89, 13, 94, 64, 41, 78, 28, 87, 70, 48, 4, 57, 67, 16, 27, 74, 92, 59, 2, 20, 14, 9, 31]\n"
          ]
        }
      ]
    },
    {
      "cell_type": "markdown",
      "source": [],
      "metadata": {
        "id": "0YBEz3zhZPdt"
      }
    }
  ]
}