{
  "nbformat": 4,
  "nbformat_minor": 0,
  "metadata": {
    "colab": {
      "provenance": [],
      "authorship_tag": "ABX9TyPcBKfBKypkudovwKOPIL2H",
      "include_colab_link": true
    },
    "kernelspec": {
      "name": "python3",
      "display_name": "Python 3"
    },
    "language_info": {
      "name": "python"
    }
  },
  "cells": [
    {
      "cell_type": "markdown",
      "metadata": {
        "id": "view-in-github",
        "colab_type": "text"
      },
      "source": [
        "<a href=\"https://colab.research.google.com/github/veronicamarenco/EDC/blob/main/Python_Tasks_6_23.ipynb\" target=\"_parent\"><img src=\"https://colab.research.google.com/assets/colab-badge.svg\" alt=\"Open In Colab\"/></a>"
      ]
    },
    {
      "cell_type": "code",
      "source": [
        "~def function_name(parameters):\n",
        "    \"\"\"Optional docstring explaining the function.\"\"\"\n",
        "    # Code block (function body)\n",
        "    return result  # optional"
      ],
      "metadata": {
        "id": "5EvKaqP4Kzat"
      },
      "execution_count": null,
      "outputs": []
    },
    {
      "cell_type": "code",
      "execution_count": 16,
      "metadata": {
        "id": "blZmc_T0HntR"
      },
      "outputs": [],
      "source": [
        "def convert(hours):\n",
        "  \"\"\"convert hours to seconds\"\"\"\n",
        "  seconds = hours * 60 * 60\n",
        "  return seconds\n"
      ]
    },
    {
      "cell_type": "code",
      "source": [
        "print(convert (2))"
      ],
      "metadata": {
        "colab": {
          "base_uri": "https://localhost:8080/"
        },
        "id": "wgmPAfb2JzUl",
        "outputId": "e74b1bac-364c-4544-a0b8-d36678d28a4a"
      },
      "execution_count": 18,
      "outputs": [
        {
          "output_type": "stream",
          "name": "stdout",
          "text": [
            "7200\n"
          ]
        }
      ]
    },
    {
      "cell_type": "code",
      "source": [
        "def square_list(list):\n",
        "  \"\"\"square every number in list\"\"\"\n",
        "  list_squared = []\n",
        "  for number in list:\n",
        "    list_squared.append(number**2)\n",
        "  return list_squared\n"
      ],
      "metadata": {
        "id": "s6pIwjjRKwP-"
      },
      "execution_count": 23,
      "outputs": []
    },
    {
      "cell_type": "code",
      "source": [
        "mylist = [1, 2, 3, 4, 5]\n"
      ],
      "metadata": {
        "id": "taJYfbfBLv3r"
      },
      "execution_count": 24,
      "outputs": []
    },
    {
      "cell_type": "code",
      "source": [
        "print(square_list(mylist))"
      ],
      "metadata": {
        "colab": {
          "base_uri": "https://localhost:8080/"
        },
        "id": "bTBpp_HuLQqa",
        "outputId": "0832b461-a328-44fe-b542-6928b0957013"
      },
      "execution_count": 26,
      "outputs": [
        {
          "output_type": "stream",
          "name": "stdout",
          "text": [
            "[1, 4, 9, 16, 25]\n"
          ]
        }
      ]
    },
    {
      "cell_type": "code",
      "source": [
        "def"
      ],
      "metadata": {
        "id": "9GM-MP8fMNji"
      },
      "execution_count": null,
      "outputs": []
    }
  ]
}