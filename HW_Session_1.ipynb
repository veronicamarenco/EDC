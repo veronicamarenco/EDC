{
  "nbformat": 4,
  "nbformat_minor": 0,
  "metadata": {
    "colab": {
      "provenance": [],
      "authorship_tag": "ABX9TyOvc8w0jWk+/fxeZyG27BLy",
      "include_colab_link": true
    },
    "kernelspec": {
      "name": "python3",
      "display_name": "Python 3"
    },
    "language_info": {
      "name": "python"
    }
  },
  "cells": [
    {
      "cell_type": "markdown",
      "metadata": {
        "id": "view-in-github",
        "colab_type": "text"
      },
      "source": [
        "<a href=\"https://colab.research.google.com/github/veronicamarenco/EDC/blob/main/HW_Session_1.ipynb\" target=\"_parent\"><img src=\"https://colab.research.google.com/assets/colab-badge.svg\" alt=\"Open In Colab\"/></a>"
      ]
    },
    {
      "cell_type": "code",
      "source": [
        "import webbrowser\n",
        "\n",
        "url = \"https://github.com/veronicamarenco/Resume\"\n"
      ],
      "metadata": {
        "id": "1EJKq9kIQGHf"
      },
      "execution_count": null,
      "outputs": []
    },
    {
      "cell_type": "markdown",
      "source": [
        "PSEUDOCODE\n",
        "START\n",
        "  INPUT number\n",
        "\n",
        "  IF number <= 1 THEN\n",
        "    OUTPUT \"Not Prime\"\n",
        "  ELSE\n",
        "    SET isPrime = True\n",
        "    FOR i from 2 to sqrt(number)\n",
        "      IF number MOD i == 0 THEN\n",
        "        SET isPrime = False\n",
        "        BREAK\n",
        "    END FOR\n",
        "\n",
        "    IF isPrime THEN\n",
        "      OUTPUT \"Prime\"\n",
        "    ELSE\n",
        "      OUTPUT \"Not Prime\"\n",
        "END"
      ],
      "metadata": {
        "id": "uMeE5A9dOSFf"
      }
    },
    {
      "cell_type": "markdown",
      "source": [],
      "metadata": {
        "id": "4FEI3GzGOP40"
      }
    },
    {
      "cell_type": "markdown",
      "source": [
        "[Start]\n",
        "   |\n",
        "[Input number]\n",
        "   |\n",
        "[Is number <= 1?] --- Yes ---> [Output \"Not Prime\"] ---> [End]\n",
        "   |\n",
        "   No\n",
        "   |\n",
        "[Set isPrime = True]\n",
        "   |\n",
        "[i = 2 to sqrt(number)]\n",
        "   |\n",
        "[Is number mod i == 0?] -- Yes --> [Set isPrime = False] --> [Break loop]\n",
        "   |\n",
        "   No\n",
        "   |\n",
        "[Continue loop]\n",
        "   |\n",
        "[Is isPrime True?]\n",
        "   |              |\n",
        " Yes             No\n",
        " |                |\n",
        "[Output \"Prime\"]  [Output \"Not Prime\"]\n",
        "   \\              /\n",
        "        [End]\n"
      ],
      "metadata": {
        "id": "yee_KVQLO7Ui"
      }
    },
    {
      "cell_type": "code",
      "source": [
        "[Start]\n",
        "   |\n",
        "[Input number]\n",
        "   |\n",
        "[Is number <= 1?] --- Yes ---> [Output \"Not Prime\"] ---> [End]\n",
        "   |\n",
        "   No\n",
        "   |\n",
        "[Set isPrime = True]\n",
        "   |\n",
        "[i = 2 to sqrt(number)]\n",
        "   |\n",
        "[Is number mod i == 0?] -- Yes --> [Set isPrime = False] --> [Break loop]\n",
        "   |\n",
        "   No\n",
        "   |\n",
        "[Continue loop]\n",
        "   |\n",
        "[Is isPrime True?]\n",
        "   |              |\n",
        " Yes             No\n",
        " |                |\n",
        "[Output \"Prime\"]  [Output \"Not Prime\"]\n",
        "   \\              /\n",
        "        [End]\n"
      ],
      "metadata": {
        "id": "79J3DyfBO5_9"
      },
      "execution_count": null,
      "outputs": []
    },
    {
      "cell_type": "code",
      "source": [
        "import math\n",
        "\n",
        "def is_prime(number):\n",
        "    if number <= 1:\n",
        "        return False\n",
        "    for i in range(2, int(math.sqrt(number)) + 1):\n",
        "        if number % i == 0:\n",
        "            return False\n",
        "    return True\n",
        "\n",
        "# Example usage\n",
        "num = int(input(\"Enter a number: \"))\n",
        "\n",
        "if is_prime(num):\n",
        "    print(f\"{num} is a prime number.\")\n",
        "else:\n",
        "    print(f\"{num} is not a prime number.\")\n"
      ],
      "metadata": {
        "colab": {
          "base_uri": "https://localhost:8080/"
        },
        "id": "K7Azt-ymPDEm",
        "outputId": "c37271ce-3956-466c-dec7-fe03d3a18802"
      },
      "execution_count": null,
      "outputs": [
        {
          "output_type": "stream",
          "name": "stdout",
          "text": [
            "Enter a number: 467\n",
            "467 is a prime number.\n"
          ]
        }
      ]
    },
    {
      "cell_type": "code",
      "source": [
        "##Task 2"
      ],
      "metadata": {
        "id": "7g70g5wwPgcl"
      },
      "execution_count": null,
      "outputs": []
    },
    {
      "cell_type": "markdown",
      "source": [
        "French tax deduction\n",
        "\n",
        "Rule 1: Income Threshold Based on Tax Reference Income (RFR)\n",
        "To qualify for certain tax reductions or exemptions, the taxpayer's tax reference income (revenu fiscal de référence) must fall below specific annual limits set by the French government.\n",
        "\n",
        "Rule 2: Family Quotient Advantage\n",
        "Taxpayers receive reductions based on their family situation, through the “quotient familial” system.\n",
        "The more dependents (children, elderly relatives, etc.), the more parts are counted in your household, which reduces taxable income.\n",
        "There is a limit to the tax reduction per half-share, which was €1,759 in 2024.\n",
        "\n",
        "Rule 3: Eligibility Through Deductible Expenses and Credits\n",
        "Certain life expenses can make taxpayers eligible for tax reductions or credits, such as:\n",
        "Home help services (e.g., cleaners, nannies): 50% credit on eligible costs\n",
        "Childcare for children under 6: 50% credit on up to €3,500 of expenses\n",
        "Energy-saving home improvements: Eligible for the “MaPrimeRénov” or other eco-tax benefits"
      ],
      "metadata": {
        "id": "GC5xc9i9P4CL"
      }
    },
    {
      "cell_type": "code",
      "source": [],
      "metadata": {
        "id": "reoGNRHDRQjE"
      },
      "execution_count": null,
      "outputs": []
    },
    {
      "cell_type": "code",
      "source": [],
      "metadata": {
        "id": "TVjmRNofQ6WR"
      },
      "execution_count": null,
      "outputs": []
    }
  ]
}